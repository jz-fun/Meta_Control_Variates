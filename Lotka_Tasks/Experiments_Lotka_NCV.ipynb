{
 "cells": [
  {
   "cell_type": "code",
   "execution_count": 2,
   "outputs": [],
   "source": [
    "import torch\n",
    "import higher\n",
    "import time\n",
    "from torch import nn\n",
    "from torch.autograd import grad\n",
    "import torch.nn.functional as F\n",
    "import numpy as np\n",
    "from scipy import integrate\n",
    "import matplotlib.pyplot as plt\n",
    "import random\n",
    "from NCV_lotka import *"
   ],
   "metadata": {
    "collapsed": false,
    "pycharm": {
     "name": "#%%\n"
    }
   }
  },
  {
   "cell_type": "code",
   "execution_count": 3,
   "outputs": [],
   "source": [
    "metatestdatasets =  torch.load('data_lotka/metatestdata_lotka.pt')"
   ],
   "metadata": {
    "collapsed": false,
    "pycharm": {
     "name": "#%%\n"
    }
   }
  },
  {
   "cell_type": "code",
   "execution_count": 3,
   "outputs": [
    {
     "name": "stdout",
     "output_type": "stream",
     "text": [
      "0 0\n"
     ]
    },
    {
     "name": "stderr",
     "output_type": "stream",
     "text": [
      "/var/folders/82/52whq67n6vb7v7yv1nxd7zr40000gq/T/ipykernel_91347/198261517.py:17: UserWarning: To copy construct from a tensor, it is recommended to use sourceTensor.clone().detach() or sourceTensor.clone().detach().requires_grad_(True), rather than torch.tensor(sourceTensor).\n",
      "  Out_temp[i,j] = torch.tensor(__NCV[1]).detach().clone()\n"
     ]
    },
    {
     "name": "stdout",
     "output_type": "stream",
     "text": [
      "0 0 tensor(0.1198)\n",
      "0 1\n",
      "0 1 tensor(0.0898)\n",
      "0 2\n",
      "0 2 tensor(0.1096)\n",
      "0 3\n",
      "0 3 tensor(0.1358)\n",
      "1 0\n",
      "1 0 tensor(0.3633)\n",
      "1 1\n",
      "1 1 tensor(0.2463)\n",
      "1 2\n",
      "1 2 tensor(0.2018)\n",
      "1 3\n",
      "1 3 tensor(0.2004)\n"
     ]
    }
   ],
   "source": [
    "\n",
    "parm_id_lists = [0,1]\n",
    "ss_lists=[10,20,30,40]\n",
    "n_replica=10\n",
    "Out_ncv_lotka_u1 = torch.zeros(len(parm_id_lists),len(ss_lists),2)\n",
    "Out_ncv_lotka_u1_data =   torch.zeros(len(parm_id_lists),len(ss_lists),n_replica, len(metatestdatasets['X_all']))\n",
    "for p in range(len(parm_id_lists)):\n",
    "    for q in range(len(ss_lists)):\n",
    "        Out_temp = torch.zeros(n_replica, len(metatestdatasets['X_all']))\n",
    "        print(p,q)\n",
    "        for i in range(n_replica):\n",
    "            for j in range(len(metatestdatasets['X_all'])):\n",
    "                hdim=[5,5,5]\n",
    "                ss  =ss_lists[q]\n",
    "                NCV = NeuralCV_lotka(parma_idx=p, tasks=metatestdatasets, model=NeuralCVModel_lotka,\\\n",
    "                                     D_in=8, h_dims=hdim, weight_decay=5e-5, optim=torch.optim.Adam, lr=1e-3, K=ss)\n",
    "                __NCV = NCV.train_val(task_id = j, num_epochs=20, batch_size=5, norm_init_std=1e-2, verbose = True)\n",
    "                Out_temp[i,j] = torch.tensor(__NCV[1]).detach().clone()\n",
    "        Out_ncv_lotka_u1[p,q,0] = Out_temp.mean()\n",
    "        Out_ncv_lotka_u1[p,q,1] = Out_temp.std()\n",
    "\n",
    "        Out_ncv_lotka_u1_data[p,q,:,:] = Out_temp\n",
    "        print(p,q, Out_ncv_lotka_u1[p,q,0])"
   ],
   "metadata": {
    "collapsed": false,
    "pycharm": {
     "name": "#%%\n"
    }
   }
  },
  {
   "cell_type": "code",
   "execution_count": 6,
   "outputs": [
    {
     "data": {
      "text/plain": "tensor([[0.1198, 0.0898, 0.1096, 0.1358],\n        [0.3633, 0.2463, 0.2018, 0.2004]])"
     },
     "execution_count": 6,
     "metadata": {},
     "output_type": "execute_result"
    }
   ],
   "source": [
    "Out_ncv_lotka_u1[:,:,0]"
   ],
   "metadata": {
    "collapsed": false,
    "pycharm": {
     "name": "#%%\n"
    }
   }
  },
  {
   "cell_type": "code",
   "execution_count": 18,
   "outputs": [],
   "source": [
    "## Save Results\n",
    "torch.save(Out_ncv_lotka_u1, 'Out_ncv_lotka_u1parms.pt')"
   ],
   "metadata": {
    "collapsed": false,
    "pycharm": {
     "name": "#%%\n"
    }
   }
  },
  {
   "cell_type": "code",
   "execution_count": 9,
   "outputs": [],
   "source": [
    "torch.save(Out_ncv_lotka_u1_data, 'Out_ncv_lotka_u1_data.pt')"
   ],
   "metadata": {
    "collapsed": false,
    "pycharm": {
     "name": "#%%\n"
    }
   }
  },
  {
   "cell_type": "code",
   "execution_count": null,
   "outputs": [],
   "source": [],
   "metadata": {
    "collapsed": false,
    "pycharm": {
     "name": "#%%\n"
    }
   }
  },
  {
   "cell_type": "code",
   "execution_count": 4,
   "outputs": [
    {
     "name": "stdout",
     "output_type": "stream",
     "text": [
      "0 0\n"
     ]
    },
    {
     "name": "stderr",
     "output_type": "stream",
     "text": [
      "/var/folders/82/52whq67n6vb7v7yv1nxd7zr40000gq/T/ipykernel_91347/2718756565.py:17: UserWarning: To copy construct from a tensor, it is recommended to use sourceTensor.clone().detach() or sourceTensor.clone().detach().requires_grad_(True), rather than torch.tensor(sourceTensor).\n",
      "  Out_temp[i,j] = torch.tensor(__NCV[1]).detach().clone()\n"
     ]
    },
    {
     "name": "stdout",
     "output_type": "stream",
     "text": [
      "0 0 tensor(0.1120)\n",
      "0 1\n",
      "0 1 tensor(0.0897)\n",
      "0 2\n",
      "0 2 tensor(0.1046)\n",
      "0 3\n",
      "0 3 tensor(0.1367)\n",
      "1 0\n",
      "1 0 tensor(0.3853)\n",
      "1 1\n",
      "1 1 tensor(0.2326)\n",
      "1 2\n",
      "1 2 tensor(0.1931)\n",
      "1 3\n",
      "1 3 tensor(0.1904)\n"
     ]
    }
   ],
   "source": [
    "parm_id_lists = [2,3]\n",
    "ss_lists=[10,20,30,40]\n",
    "n_replica=10\n",
    "Out_ncv_lotka_u2 = torch.zeros(len(parm_id_lists),len(ss_lists),2)\n",
    "Out_ncv_lotka_u2_data =   torch.zeros(len(parm_id_lists),len(ss_lists),n_replica, len(metatestdatasets['X_all']))\n",
    "for p in range(len(parm_id_lists)):\n",
    "    for q in range(len(ss_lists)):\n",
    "        Out_temp = torch.zeros(n_replica, len(metatestdatasets['X_all']))\n",
    "        print(p,q)\n",
    "        for i in range(n_replica):\n",
    "            for j in range(len(metatestdatasets['X_all'])):\n",
    "                hdim=[3,3,3]\n",
    "                ss  =ss_lists[q]\n",
    "                NCV = NeuralCV_lotka(parma_idx=p, tasks=metatestdatasets, model=NeuralCVModel_lotka,\\\n",
    "                                     D_in=8, h_dims=hdim, weight_decay=5e-5, optim=torch.optim.Adam, lr=1e-3, K=ss)\n",
    "                __NCV = NCV.train_val(task_id = j, num_epochs=20, batch_size=5, norm_init_std=1e-2, verbose = True)\n",
    "                Out_temp[i,j] = torch.tensor(__NCV[1]).detach().clone()\n",
    "        Out_ncv_lotka_u2[p,q,0] = Out_temp.mean()\n",
    "        Out_ncv_lotka_u2[p,q,1] = Out_temp.std()\n",
    "\n",
    "        Out_ncv_lotka_u2_data[p,q,:,:] = Out_temp\n",
    "        print(p,q, Out_ncv_lotka_u2[p,q,0])"
   ],
   "metadata": {
    "collapsed": false,
    "pycharm": {
     "name": "#%%\n"
    }
   }
  },
  {
   "cell_type": "code",
   "execution_count": 13,
   "outputs": [],
   "source": [
    "## Save Results\n",
    "torch.save(Out_ncv_lotka_u2, 'Out_ncv_lotka_u2parms.pt')"
   ],
   "metadata": {
    "collapsed": false,
    "pycharm": {
     "name": "#%%\n"
    }
   }
  },
  {
   "cell_type": "code",
   "execution_count": 7,
   "outputs": [],
   "source": [
    "torch.save(Out_ncv_lotka_u2_data, 'Out_ncv_lotka_u2_data.pt')"
   ],
   "metadata": {
    "collapsed": false,
    "pycharm": {
     "name": "#%%\n"
    }
   }
  },
  {
   "cell_type": "code",
   "execution_count": null,
   "outputs": [],
   "source": [],
   "metadata": {
    "collapsed": false,
    "pycharm": {
     "name": "#%%\n"
    }
   }
  }
 ],
 "metadata": {
  "kernelspec": {
   "display_name": "Python 3",
   "language": "python",
   "name": "python3"
  },
  "language_info": {
   "codemirror_mode": {
    "name": "ipython",
    "version": 2
   },
   "file_extension": ".py",
   "mimetype": "text/x-python",
   "name": "python",
   "nbconvert_exporter": "python",
   "pygments_lexer": "ipython2",
   "version": "2.7.6"
  }
 },
 "nbformat": 4,
 "nbformat_minor": 0
}