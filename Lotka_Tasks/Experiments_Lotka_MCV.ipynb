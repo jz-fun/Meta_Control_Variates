{
 "cells": [
  {
   "cell_type": "code",
   "execution_count": 3,
   "metadata": {
    "collapsed": true,
    "pycharm": {
     "name": "#%%\n"
    }
   },
   "outputs": [],
   "source": [
    "import torch\n",
    "import higher\n",
    "import time\n",
    "from torch import nn\n",
    "from torch.autograd import grad\n",
    "import torch.nn.functional as F\n",
    "import numpy as np\n",
    "from scipy import integrate\n",
    "import matplotlib.pyplot as plt\n",
    "import random\n",
    "#%matplotlib inline\n",
    "from Lotka_Tasks.MCV_lotka import *"
   ]
  },
  {
   "cell_type": "code",
   "execution_count": 3,
   "outputs": [],
   "source": [],
   "metadata": {
    "collapsed": false,
    "pycharm": {
     "name": "#%%\n"
    }
   }
  },
  {
   "cell_type": "code",
   "execution_count": 4,
   "outputs": [
    {
     "data": {
      "text/plain": "<Figure size 432x288 with 8 Axes>",
      "image/png": "[encoded data removed]"
     },
     "metadata": {
      "needs_background": "light"
     },
     "output_type": "display_data"
    }
   ],
   "source": [
    "# Experiment\n",
    "metatraindatasets = torch.load('data_lotka/metadata_lotka.pt')\n",
    "len(metatraindatasets['X_all'])\n",
    "metatraindatasets['X_all'][0].size()\n",
    "\n",
    "# check histograms\n",
    "import matplotlib.pyplot as plt\n",
    "for i in range(8):\n",
    "    plt.subplot(3,3,i+1)\n",
    "    plt.hist(metatraindatasets['X_all'][-1][:,i].numpy(), bins=50)\n",
    "plt.show()\n",
    "\n",
    "metatestdatasets =  torch.load('data_lotka/metatestdata_lotka.pt')"
   ],
   "metadata": {
    "collapsed": false,
    "pycharm": {
     "name": "#%%\n"
    }
   }
  },
  {
   "cell_type": "code",
   "execution_count": 6,
   "outputs": [],
   "source": [],
   "metadata": {
    "collapsed": false,
    "pycharm": {
     "name": "#%%\n"
    }
   }
  },
  {
   "cell_type": "code",
   "execution_count": 7,
   "outputs": [],
   "source": [
    "#################\n",
    "## Experiments ##\n",
    "#################"
   ],
   "metadata": {
    "collapsed": false,
    "pycharm": {
     "name": "#%%\n"
    }
   }
  },
  {
   "cell_type": "code",
   "execution_count": 7,
   "outputs": [],
   "source": [],
   "metadata": {
    "collapsed": false,
    "pycharm": {
     "name": "#%%\n"
    }
   }
  },
  {
   "cell_type": "code",
   "execution_count": 8,
   "outputs": [
    {
     "name": "stdout",
     "output_type": "stream",
     "text": [
      "0 0\n",
      "Meta_testing finished.\n",
      "0 0 tensor([0.0237, 0.0175]) tensor([0.0169, 0.0175])\n",
      "0 1\n",
      "Meta_testing finished.\n",
      "0 1 tensor([0.0166, 0.0138]) tensor([0.0121, 0.0138])\n",
      "0 2\n",
      "Meta_testing finished.\n",
      "0 2 tensor([0.0132, 0.0115]) tensor([0.0101, 0.0113])\n",
      "0 3\n",
      "Meta_testing finished.\n",
      "0 3 tensor([0.0124, 0.0101]) tensor([0.0081, 0.0087])\n",
      "1 0\n",
      "Meta_testing finished.\n",
      "1 0 tensor([0.0297, 0.0239]) tensor([0.0215, 0.0188])\n",
      "1 1\n",
      "Meta_testing finished.\n",
      "1 1 tensor([0.0208, 0.0166]) tensor([0.0148, 0.0134])\n",
      "1 2\n",
      "Meta_testing finished.\n",
      "1 2 tensor([0.0166, 0.0127]) tensor([0.0122, 0.0123])\n",
      "1 3\n",
      "Meta_testing finished.\n",
      "1 3 tensor([0.0140, 0.0108]) tensor([0.0105, 0.0103])\n"
     ]
    }
   ],
   "source": [
    "ss_lists=[10,20,30,40]\n",
    "parm_id_lists = [0,1]\n",
    "MC_Results1 = torch.zeros(len(parm_id_lists),len(ss_lists),2)\n",
    "MCV_Results1 =  torch.zeros(len(parm_id_lists),len(ss_lists),2)\n",
    "n_rep=10\n",
    "MC_data1 = torch.zeros(len(parm_id_lists),len(ss_lists),n_rep, len(metatestdatasets['X_all']))\n",
    "MCV_data1 = torch.zeros(len(parm_id_lists),len(ss_lists),n_rep, len(metatestdatasets['X_all']))\n",
    "for i in range(len(parm_id_lists)):\n",
    "    pid = parm_id_lists[i]\n",
    "    for j in range(len(ss_lists)):\n",
    "        print(i,j)\n",
    "        ss = ss_lists[j]\n",
    "        torch.manual_seed(0)\n",
    "        insteps = 1\n",
    "        inlr = 1e-4\n",
    "        metalr = 1e-3\n",
    "        K = ss   #\n",
    "        inneropt = torch.optim.Adam\n",
    "        mCV = MetaNeuralCV_lotka(parma_idx=pid,model=MetaNeuralCVModel_lotka, D_in=8,  h_dims=[5]*3, init_val=torch.zeros(1), weight_decay= 5.e-5,\\\n",
    "                                 tasks=metatraindatasets, inner_optim =inneropt, inner_lr=inlr, meta_lr=metalr, K=K, inner_steps=insteps, tasks_per_meta_batch=5)\n",
    "\n",
    "        mCV.train_val_case2(num_iterations=2000, lotka_ifalluse_allobs=False, ts=None, te=None, meta_val_datasets = None, norm_init_std=1e-2, verbose=False)\n",
    "\n",
    "\n",
    "        torch.manual_seed(0)\n",
    "        mCV.test_storedtasks_rep_lotka_case2(metatestdatasets, ts=None, te=None, inner_optim=inneropt, inner_lr=inlr, inner_steps = insteps, n_rep=n_rep, verbose=False) #\n",
    "        MCV_Results1[i,j,0] = mCV.log_test[0]['Abserr_CVests'].mean()\n",
    "        MCV_Results1[i,j,1] = mCV.log_test[0]['Abserr_CVests'].std()\n",
    "        MC_Results1[i,j,0] =mCV.log_test[0]['Abserr_MC_2m_ests'].mean()\n",
    "        MC_Results1[i,j,1] =mCV.log_test[0]['Abserr_MC_2m_ests'].std()\n",
    "\n",
    "        MC_data1[i,j,:,:] = mCV.log_test[0]['Abserr_MC_2m_ests']\n",
    "        MCV_data1[i,j,:,:] = mCV.log_test[0]['Abserr_CVests']\n",
    "        print(i,j, MC_Results1[i,j,:], MCV_Results1[i,j,:])"
   ],
   "metadata": {
    "collapsed": false,
    "pycharm": {
     "name": "#%%\n"
    }
   }
  },
  {
   "cell_type": "code",
   "execution_count": 10,
   "outputs": [],
   "source": [
    "## Save Results\n",
    "torch.save(MCV_Results1, 'data_lotka/MCV_u1parms.pt')\n",
    "torch.save(MC_Results1, 'data_lotka/MC_u1parms.pt')"
   ],
   "metadata": {
    "collapsed": false,
    "pycharm": {
     "name": "#%%\n"
    }
   }
  },
  {
   "cell_type": "code",
   "execution_count": 11,
   "outputs": [],
   "source": [
    "torch.save(MCV_data1, 'data_lotka/MCV_data1.pt')\n",
    "torch.save(MC_data1, 'data_lotka/MC_data1.pt')"
   ],
   "metadata": {
    "collapsed": false,
    "pycharm": {
     "name": "#%%\n"
    }
   }
  },
  {
   "cell_type": "code",
   "execution_count": 11,
   "outputs": [],
   "source": [],
   "metadata": {
    "collapsed": false,
    "pycharm": {
     "name": "#%%\n"
    }
   }
  },
  {
   "cell_type": "code",
   "execution_count": 11,
   "outputs": [],
   "source": [],
   "metadata": {
    "collapsed": false,
    "pycharm": {
     "name": "#%%\n"
    }
   }
  },
  {
   "cell_type": "code",
   "execution_count": 12,
   "outputs": [
    {
     "name": "stdout",
     "output_type": "stream",
     "text": [
      "0 0\n",
      "Meta_testing finished.\n",
      "0 0 tensor([0.0204, 0.0160]) tensor([0.0157, 0.0152])\n",
      "0 1\n",
      "Meta_testing finished.\n",
      "0 1 tensor([0.0149, 0.0111]) tensor([0.0102, 0.0086])\n",
      "0 2\n",
      "Meta_testing finished.\n",
      "0 2 tensor([0.0123, 0.0100]) tensor([0.0111, 0.0107])\n",
      "0 3\n",
      "Meta_testing finished.\n",
      "0 3 tensor([0.0108, 0.0089]) tensor([0.0078, 0.0065])\n",
      "1 0\n",
      "Meta_testing finished.\n",
      "1 0 tensor([0.0286, 0.0230]) tensor([0.0241, 0.0226])\n",
      "1 1\n",
      "Meta_testing finished.\n",
      "1 1 tensor([0.0197, 0.0149]) tensor([0.0145, 0.0121])\n",
      "1 2\n",
      "Meta_testing finished.\n",
      "1 2 tensor([0.0171, 0.0150]) tensor([0.0129, 0.0119])\n",
      "1 3\n",
      "Meta_testing finished.\n",
      "1 3 tensor([0.0147, 0.0122]) tensor([0.0105, 0.0098])\n"
     ]
    }
   ],
   "source": [
    "ss_lists=[10,20,30,40]\n",
    "parm_id_lists = [2,3]\n",
    "MC_Results2= torch.zeros(len(parm_id_lists),len(ss_lists),2)\n",
    "MCV_Results2 =  torch.zeros(len(parm_id_lists),len(ss_lists),2)\n",
    "\n",
    "n_rep=10\n",
    "MC_data2 = torch.zeros(len(parm_id_lists),len(ss_lists),n_rep, len(metatestdatasets['X_all']))\n",
    "MCV_data2 = torch.zeros(len(parm_id_lists),len(ss_lists),n_rep, len(metatestdatasets['X_all']))\n",
    "for i in range(len(parm_id_lists)):\n",
    "    pid = parm_id_lists[i]\n",
    "    for j in range(len(ss_lists)):\n",
    "        print(i,j)\n",
    "        ss = ss_lists[j]\n",
    "        torch.manual_seed(0)\n",
    "        insteps = 1\n",
    "        inlr = 1e-3\n",
    "        metalr = 1e-3\n",
    "        K = ss\n",
    "        inneropt = torch.optim.Adam\n",
    "        mCV = MetaNeuralCV_lotka(parma_idx=pid,model=MetaNeuralCVModel_lotka, D_in=8,  h_dims=[3]*3, init_val=torch.zeros(1), weight_decay= 5.e-5,\\\n",
    "                                 tasks=metatraindatasets, inner_optim =inneropt, inner_lr=inlr, meta_lr=metalr, K=K, inner_steps=insteps, tasks_per_meta_batch=5)\n",
    "\n",
    "        mCV.train_val_case2(num_iterations=2000, lotka_ifalluse_allobs=False, ts=None, te=None, meta_val_datasets = None, norm_init_std=1e-2, verbose=False)\n",
    "\n",
    "\n",
    "        torch.manual_seed(0)\n",
    "        mCV.test_storedtasks_rep_lotka_case2(metatestdatasets, ts=None, te=None, inner_optim=inneropt, inner_lr=inlr, inner_steps = insteps, n_rep=10, verbose=False)\n",
    "        MCV_Results2[i,j,0] = mCV.log_test[0]['Abserr_CVests'].mean()\n",
    "        MCV_Results2[i,j,1] = mCV.log_test[0]['Abserr_CVests'].std()\n",
    "        MC_Results2[i,j,0] =mCV.log_test[0]['Abserr_MC_2m_ests'].mean()\n",
    "        MC_Results2[i,j,1] =mCV.log_test[0]['Abserr_MC_2m_ests'].std()\n",
    "\n",
    "        MC_data2[i,j,:,:] = mCV.log_test[0]['Abserr_MC_2m_ests']\n",
    "        MCV_data2[i,j,:,:] = mCV.log_test[0]['Abserr_CVests']\n",
    "        print(i,j, MC_Results2[i,j,:], MCV_Results2[i,j,:])"
   ],
   "metadata": {
    "collapsed": false,
    "pycharm": {
     "name": "#%%\n"
    }
   }
  },
  {
   "cell_type": "code",
   "execution_count": 14,
   "outputs": [],
   "source": [
    "## Save Results\n",
    "torch.save(MCV_Results2, 'MCV_u2parms.pt')\n",
    "torch.save(MC_Results2, 'MC_u2parms.pt')"
   ],
   "metadata": {
    "collapsed": false,
    "pycharm": {
     "name": "#%%\n"
    }
   }
  },
  {
   "cell_type": "code",
   "execution_count": 15,
   "outputs": [],
   "source": [
    "torch.save(MCV_data2, 'MCV_data2.pt')\n",
    "torch.save(MC_data2, 'MC_data2.pt')"
   ],
   "metadata": {
    "collapsed": false,
    "pycharm": {
     "name": "#%%\n"
    }
   }
  },
  {
   "cell_type": "code",
   "execution_count": null,
   "outputs": [],
   "source": [],
   "metadata": {
    "collapsed": false,
    "pycharm": {
     "name": "#%%\n"
    }
   }
  },
  {
   "cell_type": "code",
   "execution_count": null,
   "outputs": [],
   "source": [],
   "metadata": {
    "collapsed": false,
    "pycharm": {
     "name": "#%%\n"
    }
   }
  }
 ],
 "metadata": {
  "kernelspec": {
   "display_name": "Python 3",
   "language": "python",
   "name": "python3"
  },
  "language_info": {
   "codemirror_mode": {
    "name": "ipython",
    "version": 2
   },
   "file_extension": ".py",
   "mimetype": "text/x-python",
   "name": "python",
   "nbconvert_exporter": "python",
   "pygments_lexer": "ipython2",
   "version": "2.7.6"
  }
 },
 "nbformat": 4,
 "nbformat_minor": 0
}